{
 "cells": [
  {
   "cell_type": "markdown",
   "metadata": {},
   "source": [
    "the time_limit, \n",
    "- which instructs AG-TS to train as many models as possible within a specified time frame. Here, we omit this argument — meaning AG-TS will run until all models have completed training"
   ]
  },
  {
   "cell_type": "markdown",
   "metadata": {},
   "source": [
    "Preset 'fast_training' was not found. \n",
    "- Valid presets: ['experimental_quality', 'best_quality', 'high_quality', 'good_quality', 'medium_quality', 'optimize_for_deployment', 'ignore_text', 'ignore_text_ngrams', 'interpretable', 'best_quality_v082', 'high_quality_v082', 'good_quality_v082']"
   ]
  },
  {
   "cell_type": "markdown",
   "metadata": {},
   "source": [
    "- verbosity=1: silent no information printed\n",
    "- verbosity=2 (Standard Logging)\n",
    "- Verbosity: 3 (Detailed Logging)"
   ]
  },
  {
   "cell_type": "markdown",
   "metadata": {},
   "source": [
    "[TabularPredictor Documentation](https://auto.gluon.ai/stable/api/autogluon.tabular.TabularPredictor.fit.html)\n",
    "\n",
    "\n",
    "- feature_metadata (autogluon.tabular.FeatureMetadata or str, default = ‘infer’)\n",
    "- dynamic_stacking (bool | str, default = False) \n",
    "- calibrate_decision_threshold (bool | str, default = \"auto\") \n",
    "- num_cpus (int | str, default = \"auto\") \n",
    "- num_gpus (int | str, default = \"auto\") \n",
    "- fit_strategy (Literal[\"sequential\", \"parallel\"], default = \"sequential\") "
   ]
  },
  {
   "cell_type": "code",
   "execution_count": null,
   "metadata": {},
   "outputs": [],
   "source": []
  }
 ],
 "metadata": {
  "kernelspec": {
   "display_name": "agluon",
   "language": "python",
   "name": "python3"
  },
  "language_info": {
   "codemirror_mode": {
    "name": "ipython",
    "version": 3
   },
   "file_extension": ".py",
   "mimetype": "text/x-python",
   "name": "python",
   "nbconvert_exporter": "python",
   "pygments_lexer": "ipython3",
   "version": "3.11.11"
  }
 },
 "nbformat": 4,
 "nbformat_minor": 2
}
