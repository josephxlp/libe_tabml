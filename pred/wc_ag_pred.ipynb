{
 "cells": [
  {
   "cell_type": "code",
   "execution_count": 1,
   "metadata": {},
   "outputs": [],
   "source": [
    "from utilsml import train_model\n",
    "from utilsdf import list_files_by_tilenames\n",
    "from uvars import tilenames_lidar,RES_DPATH\n",
    "from utilsdf import assign_nulls, fillna,dropnulls_bycol,check_fillnulls, list_files_by_tilenames\n",
    "from uvars import s1_fnames, s2_fnames,aux_names\n",
    "import pandas as pd \n",
    "from sklearn.model_selection import train_test_split\n",
    "import os \n",
    "from catboost import CatBoostRegressor\n",
    "import rasterio\n",
    "import numpy as np"
   ]
  },
  {
   "cell_type": "code",
   "execution_count": 2,
   "metadata": {},
   "outputs": [],
   "source": [
    "def load_and_preprocess_pred_df(fparquet,s1_fnames,s2_fnames):\n",
    "    df = pd.read_parquet(fparquet)\n",
    "    df = assign_nulls(df)\n",
    "    df = fillna(df, s1_fnames)\n",
    "    df = fillna(df, s2_fnames)\n",
    "    df = check_fillnulls(df)\n",
    "    return df\n",
    "\n",
    "\n",
    "def write_predictions_to_raster(predictions, tile_file, output_raster_path):\n",
    "    \"\"\"\n",
    "    Writes predictions to a new raster file using metadata from an existing tile file.\n",
    "    \n",
    "    Parameters:\n",
    "    - predictions (array-like): 1D array of predicted values matching the flattened raster size.\n",
    "    - tile_file (str): Path to the raster file from which metadata will be read.\n",
    "    - output_raster_path (str): Path where the new raster file will be saved.\n",
    "    \n",
    "    Returns:\n",
    "    - None\n",
    "    \"\"\"\n",
    "    # Read metadata from the tile file\n",
    "    with rasterio.open(tile_file) as src:\n",
    "        meta = src.meta.copy()\n",
    "        raster_shape = (src.height, src.width)\n",
    "        transform = src.transform\n",
    "        crs = src.crs\n",
    "\n",
    "    # Reshape predictions to match the raster's dimensions\n",
    "    try:\n",
    "        predictions_reshaped = np.array(predictions).reshape(raster_shape)\n",
    "    except ValueError:\n",
    "        raise ValueError(f\"Predictions array size {len(predictions)} does not match raster dimensions {raster_shape}.\")\n",
    "\n",
    "    # Update metadata for writing a new raster\n",
    "    meta.update({\n",
    "        \"dtype\": rasterio.float32,  # Ensure predictions are stored as float32\n",
    "        \"count\": 1,  # Single band\n",
    "        \"compress\": \"lzw\"  # Optional: Add compression\n",
    "    })\n",
    "\n",
    "    # Write the new raster\n",
    "    with rasterio.open(output_raster_path, \"w\", **meta) as dst:\n",
    "        dst.write(predictions_reshaped.astype(rasterio.float32), 1)  # Write to the first band\n",
    "\n",
    "    print(f\"New raster saved to {output_raster_path}\")"
   ]
  },
  {
   "cell_type": "code",
   "execution_count": 3,
   "metadata": {},
   "outputs": [],
   "source": [
    "target_col = tcol = 'edem' # run for all 3 targets, and also use zdiff or not if going to donwscale \n",
    "features_col = aux_names + s1_fnames +s2_fnames\n",
    "tilenames = tilenames_lidar"
   ]
  },
  {
   "cell_type": "markdown",
   "metadata": {},
   "source": [
    "##### TRAIN 90 AND PREDICT 90"
   ]
  },
  {
   "cell_type": "code",
   "execution_count": 4,
   "metadata": {},
   "outputs": [
    {
     "data": {
      "text/plain": [
       "<catboost.core.CatBoostRegressor at 0x7eae9a759950>"
      ]
     },
     "execution_count": 4,
     "metadata": {},
     "output_type": "execute_result"
    }
   ],
   "source": [
    "modeldpath = \"/home/ljp238/Documents/UoE/libe_tabml/output/wb_baseline_loop/\"\n",
    "modelpath = f\"{modeldpath}/edem_90000_catboost_model.txt\"\n",
    "model = CatBoostRegressor()\n",
    "model.load_model(modelpath)"
   ]
  },
  {
   "cell_type": "code",
   "execution_count": 5,
   "metadata": {},
   "outputs": [
    {
     "name": "stdout",
     "output_type": "stream",
     "text": [
      "6\n",
      "New raster saved to /media/ljp238/12TBWolf/RSPROX/TILES90/N09E105/N09E105_edem_W84_90__ML90M.tif\n",
      "New raster saved to /media/ljp238/12TBWolf/RSPROX/TILES90/N09E106/N09E106_edem_W84_90__ML90M.tif\n",
      "New raster saved to /media/ljp238/12TBWolf/RSPROX/TILES90/N10E104/N10E104_edem_W84_90__ML90M.tif\n",
      "New raster saved to /media/ljp238/12TBWolf/RSPROX/TILES90/N10E105/N10E105_edem_W84_90__ML90M.tif\n",
      "New raster saved to /media/ljp238/12TBWolf/RSPROX/TILES90/N10E106/N10E106_edem_W84_90__ML90M.tif\n",
      "New raster saved to /media/ljp238/12TBWolf/RSPROX/TILES90/N13E103/N13E103_edem_W84_90__ML90M.tif\n"
     ]
    }
   ],
   "source": [
    "\n",
    "X=90\n",
    "fparquet_list,tile_files_list = list_files_by_tilenames(RES_DPATH, X, tilenames)\n",
    "\n",
    "\n",
    "L = len(fparquet_list)\n",
    "print(L)\n",
    "for idx in range(L):\n",
    "    fparquet,tile_files = fparquet_list[idx],tile_files_list[idx]\n",
    "    df = load_and_preprocess_pred_df(fparquet,s1_fnames,s2_fnames)\n",
    "    pred = model.predict(df[features_col])\n",
    "\n",
    "    tile_ifile = [i for i in tile_files if 'edem_W84_90.tif' in i][0]\n",
    "    tile_ofile = tile_ifile.replace('.tif', '__ML90M.tif')\n",
    "    write_predictions_to_raster(pred, tile_ifile, tile_ofile)"
   ]
  },
  {
   "cell_type": "markdown",
   "metadata": {},
   "source": [
    "##### TRAIN 90 AND PREDICT 30"
   ]
  },
  {
   "cell_type": "code",
   "execution_count": null,
   "metadata": {},
   "outputs": [],
   "source": []
  },
  {
   "cell_type": "code",
   "execution_count": 20,
   "metadata": {},
   "outputs": [
    {
     "name": "stdout",
     "output_type": "stream",
     "text": [
      "6\n",
      "New raster saved to /media/ljp238/12TBWolf/RSPROX/TILES30/N09E105/N09E105_edem_W84_30__ML90M.tif\n",
      "New raster saved to /media/ljp238/12TBWolf/RSPROX/TILES30/N09E106/N09E106_edem_W84_30__ML90M.tif\n",
      "New raster saved to /media/ljp238/12TBWolf/RSPROX/TILES30/N10E104/N10E104_edem_W84_30__ML90M.tif\n",
      "New raster saved to /media/ljp238/12TBWolf/RSPROX/TILES30/N10E105/N10E105_edem_W84_30__ML90M.tif\n",
      "New raster saved to /media/ljp238/12TBWolf/RSPROX/TILES30/N10E106/N10E106_edem_W84_30__ML90M.tif\n",
      "New raster saved to /media/ljp238/12TBWolf/RSPROX/TILES30/N13E103/N13E103_edem_W84_30__ML90M.tif\n"
     ]
    }
   ],
   "source": [
    "# X=30\n",
    "# fparquet_list,tile_files_list = list_files_by_tilenames(RES_DPATH, X, tilenames)\n",
    "# L = len(fparquet_list)\n",
    "# print(L)\n",
    "# for idx in range(L):\n",
    "#     fparquet,tile_files = fparquet_list[idx],tile_files_list[idx]\n",
    "#     df = load_and_preprocess_pred_df(fparquet,s1_fnames,s2_fnames)\n",
    "#     pred = model.predict(df[features_col])\n",
    "\n",
    "#     tile_ifile = [i for i in tile_files if 'edem_W84' in i][0]\n",
    "#     tile_ofile = tile_ifile.replace('.tif', '__ML90M.tif')\n",
    "#     write_predictions_to_raster(pred, tile_ifile, tile_ofile) # find the code that writes this in steps /blocks \n",
    "\n",
    "# 61 mins -- to expensive make it cheaper \n",
    "# did not work well, transferability across scales "
   ]
  },
  {
   "cell_type": "code",
   "execution_count": null,
   "metadata": {},
   "outputs": [],
   "source": []
  },
  {
   "cell_type": "code",
   "execution_count": null,
   "metadata": {},
   "outputs": [],
   "source": []
  }
 ],
 "metadata": {
  "kernelspec": {
   "display_name": "agluon",
   "language": "python",
   "name": "python3"
  },
  "language_info": {
   "codemirror_mode": {
    "name": "ipython",
    "version": 3
   },
   "file_extension": ".py",
   "mimetype": "text/x-python",
   "name": "python",
   "nbconvert_exporter": "python",
   "pygments_lexer": "ipython3",
   "version": "3.11.11"
  }
 },
 "nbformat": 4,
 "nbformat_minor": 2
}
