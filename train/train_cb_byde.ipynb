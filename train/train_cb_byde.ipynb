{
 "cells": [
  {
   "cell_type": "code",
   "execution_count": 1,
   "metadata": {},
   "outputs": [],
   "source": [
    "import os \n",
    "import sys\n",
    "import time\n",
    "import pandas as pd \n",
    "import numpy as np\n",
    "from sklearn.model_selection import train_test_split\n",
    "from pprint import pprint\n",
    "from tabulate import tabulate\n",
    "\n",
    "from trainvars import libpath\n",
    "sys.path.append(libpath)\n",
    "\n",
    "from uvars import MODEL_REPO_DPATH, RES_DPATH,tilenames_lidar\n",
    "#from ud_tilepartquets import dropnulls_bycol,check_fillnulls,list_files_by_tilenames\n",
    "from utilsdf import read_tiles_dosample, read_tiles_nosample,list_files_by_tilenames"
   ]
  },
  {
   "cell_type": "code",
   "execution_count": 2,
   "metadata": {},
   "outputs": [
    {
     "data": {
      "text/plain": [
       "'/home/ljp238/Documents/UoE/libe_tabml/train'"
      ]
     },
     "execution_count": 2,
     "metadata": {},
     "output_type": "execute_result"
    }
   ],
   "source": [
    "os.getcwd()"
   ]
  },
  {
   "cell_type": "markdown",
   "metadata": {},
   "source": [
    "full_pipeline(outdir,model_type=\"catboost\", num_rounds=100, \n",
    "                  X=12, N=None,m=None,seedlist=[21,43,13])"
   ]
  },
  {
   "cell_type": "code",
   "execution_count": 3,
   "metadata": {},
   "outputs": [],
   "source": [
    "ftcol = ['egm08',\n",
    " 'egm96',\n",
    " 'tdem_hem',\n",
    " 'multi_s1_band1',\n",
    " 'multi_s1_band2',\n",
    " 'multi_s2_band1',\n",
    " 'multi_s2_band2',\n",
    " 'multi_s2_band3',\n",
    " 'edem_w84',\n",
    " 'tdem_dem__fw',\n",
    " 'multi_dtm_lidar']\n",
    "\n",
    "\n",
    "yvar=\"zdif\"\n",
    "tcol='edem_w84' #\"edem\"\n",
    "rcol='multi_dtm_lidar'\n",
    "fcol = ['egm08', 'egm96', 'tdem_hem', \n",
    "        'multi_s1_band1', 'multi_s1_band2',\n",
    "        'multi_s2_band1', 'multi_s2_band2', 'multi_s2_band3']##, 'edem_w84']\n",
    "\n",
    "\n",
    "model_type=\"catboost\"\n",
    "outdir = MODEL_REPO_DPATH\n",
    "model_type=\"catboost\"\n",
    "num_rounds=100\n",
    "X=12\n",
    "N=None,\n",
    "m=None,\n",
    "seedlist=[21,43,13]\n",
    "num_rounds_list, seedlist = [100], [100]\n",
    "N = 1000"
   ]
  },
  {
   "cell_type": "markdown",
   "metadata": {},
   "source": [
    "start script"
   ]
  },
  {
   "cell_type": "code",
   "execution_count": 4,
   "metadata": {},
   "outputs": [],
   "source": [
    "from trainutils import print_context, measure_time_beautifully\n",
    "import ud_tilepartquets as ud "
   ]
  },
  {
   "cell_type": "code",
   "execution_count": 5,
   "metadata": {},
   "outputs": [],
   "source": [
    "dirname = 'cb_train_de_dev'"
   ]
  },
  {
   "cell_type": "code",
   "execution_count": 6,
   "metadata": {},
   "outputs": [
    {
     "data": {
      "text/plain": [
       "'/media/ljp238/12TBWolf/RSPROX/OUTPUT_TILES/TILES'"
      ]
     },
     "execution_count": 6,
     "metadata": {},
     "output_type": "execute_result"
    }
   ],
   "source": [
    "RES_DPATH"
   ]
  },
  {
   "cell_type": "code",
   "execution_count": null,
   "metadata": {},
   "outputs": [],
   "source": [
    "os.makedirs(outdir, exist_ok=True)\n",
    "yvar=\"zdif\"\n",
    "tcol='edem_w84' #\"edem\"\n",
    "rcol='multi_dtm_lidar'\n",
    "fcol = ['egm08', 'egm96', 'tdem_hem', \n",
    "        'multi_s1_band1', 'multi_s1_band2',\n",
    "        'multi_s2_band1', 'multi_s2_band2', 'multi_s2_band3']\n",
    "# pass all this as dictionary \n",
    "if m is not None:\n",
    "    m = str(m).replace('.', 'p')\n",
    "    mN = f'eq{m}xtile'\n",
    "\n",
    "print_context('# Step 1: List files by tilenames')\n",
    "fparquet_list, tile_files_list = list_files_by_tilenames(RES_DPATH, X, tilenames_lidar)\n",
    "print(f\"Found {len(fparquet_list)} parquet files and {len(tile_files_list)} tile files.\")\n",
    "pprint(fparquet_list)\n"
   ]
  },
  {
   "cell_type": "code",
   "execution_count": null,
   "metadata": {},
   "outputs": [],
   "source": []
  },
  {
   "cell_type": "code",
   "execution_count": null,
   "metadata": {},
   "outputs": [],
   "source": []
  },
  {
   "cell_type": "code",
   "execution_count": 9,
   "metadata": {},
   "outputs": [],
   "source": [
    "# create a sample df, where you use to run experiments like this and developmen "
   ]
  },
  {
   "cell_type": "code",
   "execution_count": 11,
   "metadata": {},
   "outputs": [
    {
     "name": "stdout",
     "output_type": "stream",
     "text": [
      "Output directory created or already exists: /media/ljp238/12TBWolf/RSPROX/OUTPUT_TILES/MODELS/cb_train_de_dev/12/zdif/iter100_n1000_eq(None,)xtile_s1\n",
      "Calculating zdif as the difference between 'edem_w84' and 'ldem'...\n",
      "Splitting dataframe into training and validation sets...\n"
     ]
    }
   ],
   "source": []
  },
  {
   "cell_type": "code",
   "execution_count": 12,
   "metadata": {},
   "outputs": [],
   "source": [
    "# pass all the params ad dictionary after this"
   ]
  },
  {
   "cell_type": "code",
   "execution_count": 22,
   "metadata": {},
   "outputs": [],
   "source": []
  },
  {
   "cell_type": "code",
   "execution_count": 23,
   "metadata": {},
   "outputs": [],
   "source": []
  },
  {
   "cell_type": "code",
   "execution_count": 29,
   "metadata": {},
   "outputs": [
    {
     "name": "stdout",
     "output_type": "stream",
     "text": [
      "GPU training failed for catboost: train_catboost() got an unexpected keyword argument 'easr'. Falling back to CPU.\n",
      "Learning rate set to 0.066356\n",
      "0:\tlearn: 6.0401096\ttest: 6.1998958\tbest: 6.1998958 (0)\ttotal: 7.66ms\tremaining: 7.65s\n",
      "100:\tlearn: 1.3979009\ttest: 1.7166758\tbest: 1.7134849 (86)\ttotal: 923ms\tremaining: 8.22s\n",
      "200:\tlearn: 1.2528003\ttest: 1.7339817\tbest: 1.7125296 (114)\ttotal: 1.78s\tremaining: 7.07s\n",
      "300:\tlearn: 1.1442185\ttest: 1.7428413\tbest: 1.7125296 (114)\ttotal: 2.85s\tremaining: 6.62s\n",
      "400:\tlearn: 1.0643868\ttest: 1.7426717\tbest: 1.7125296 (114)\ttotal: 3.65s\tremaining: 5.46s\n",
      "500:\tlearn: 0.9939443\ttest: 1.7510114\tbest: 1.7125296 (114)\ttotal: 4.58s\tremaining: 4.56s\n",
      "600:\tlearn: 0.9419396\ttest: 1.7552926\tbest: 1.7125296 (114)\ttotal: 5.46s\tremaining: 3.62s\n",
      "700:\tlearn: 0.8918900\ttest: 1.7567366\tbest: 1.7125296 (114)\ttotal: 6s\tremaining: 2.56s\n",
      "800:\tlearn: 0.8450475\ttest: 1.7610846\tbest: 1.7125296 (114)\ttotal: 6.62s\tremaining: 1.64s\n",
      "900:\tlearn: 0.8061597\ttest: 1.7603285\tbest: 1.7125296 (114)\ttotal: 7s\tremaining: 769ms\n",
      "999:\tlearn: 0.7698459\ttest: 1.7616061\tbest: 1.7125296 (114)\ttotal: 7.89s\tremaining: 0us\n",
      "\n",
      "bestTest = 1.712529624\n",
      "bestIteration = 114\n",
      "\n",
      "Shrink model to first 115 iterations.\n"
     ]
    }
   ],
   "source": []
  },
  {
   "cell_type": "code",
   "execution_count": 36,
   "metadata": {},
   "outputs": [],
   "source": []
  },
  {
   "cell_type": "code",
   "execution_count": 43,
   "metadata": {},
   "outputs": [],
   "source": [
    "#print(tabulate(metrics_df, headers=\"keys\", tablefmt=\"fancy_grid\"))"
   ]
  },
  {
   "cell_type": "code",
   "execution_count": 41,
   "metadata": {},
   "outputs": [
    {
     "name": "stdout",
     "output_type": "stream",
     "text": [
      "+----+--------+---------+----------+-------------+--------------------------------------------------------------------------------------------------------------------------------------+\n",
      "|    |   Seed |    RMSE |       R2 | BestIter    | ModelPath                                                                                                                            |\n",
      "|----+--------+---------+----------+-------------+--------------------------------------------------------------------------------------------------------------------------------------|\n",
      "|  0 |     42 | 1.71253 | 0.931622 | 114_of_1000 | /media/ljp238/12TBWolf/RSPROX/OUTPUT_TILES/MODELS/cb_train_de_dev/12/zdif/iter100_n1000_eq(None,)xtile_s1/catboost_1000_42_model.txt |\n",
      "+----+--------+---------+----------+-------------+--------------------------------------------------------------------------------------------------------------------------------------+\n"
     ]
    }
   ],
   "source": []
  },
  {
   "cell_type": "code",
   "execution_count": 35,
   "metadata": {},
   "outputs": [
    {
     "name": "stdout",
     "output_type": "stream",
     "text": [
      "   Seed     RMSE        R2     BestIter  \\\n",
      "0    42  1.71253  0.931622  114_of_1000   \n",
      "\n",
      "                                           ModelPath  \n",
      "0  /media/ljp238/12TBWolf/RSPROX/OUTPUT_TILES/MOD...  \n"
     ]
    }
   ],
   "source": [
    "print(metrics_df)"
   ]
  },
  {
   "cell_type": "code",
   "execution_count": null,
   "metadata": {},
   "outputs": [
    {
     "name": "stdout",
     "output_type": "stream",
     "text": [
      " \n",
      "============================================================\n",
      "    ML - Process Log\n",
      "============================================================\n",
      "    Training catboost model @ 100...\n",
      "    /media/ljp238/12TBWolf/RSPROX/OUTPUT_TILES/MODELS/cb_train_de_dev/12/zdif/iter100_n1000_eq(None,)xtile_s1\n",
      "============================================================\n",
      " \n",
      "============================================================\n",
      "    ML - Process Log\n",
      "============================================================\n",
      "    1/1 @12m @seed:100  @num_rounds:1000 @:dynamic_early_stopping_rounds114\n",
      "============================================================\n",
      "GPU training failed for catboost: train_catboost() got an unexpected keyword argument 'easr'. Falling back to CPU.\n",
      "Learning rate set to 0.066356\n",
      "0:\tlearn: 6.0401096\ttest: 6.1998958\tbest: 6.1998958 (0)\ttotal: 6.34ms\tremaining: 6.33s\n",
      "100:\tlearn: 1.3979009\ttest: 1.7166758\tbest: 1.7134849 (86)\ttotal: 836ms\tremaining: 7.44s\n",
      "200:\tlearn: 1.2528003\ttest: 1.7339817\tbest: 1.7125296 (114)\ttotal: 1.66s\tremaining: 6.59s\n",
      "300:\tlearn: 1.1442185\ttest: 1.7428413\tbest: 1.7125296 (114)\ttotal: 2.33s\tremaining: 5.41s\n",
      "400:\tlearn: 1.0643868\ttest: 1.7426717\tbest: 1.7125296 (114)\ttotal: 3.08s\tremaining: 4.6s\n",
      "500:\tlearn: 0.9939443\ttest: 1.7510114\tbest: 1.7125296 (114)\ttotal: 3.81s\tremaining: 3.8s\n",
      "600:\tlearn: 0.9419396\ttest: 1.7552926\tbest: 1.7125296 (114)\ttotal: 4.34s\tremaining: 2.88s\n",
      "700:\tlearn: 0.8918900\ttest: 1.7567366\tbest: 1.7125296 (114)\ttotal: 5.27s\tremaining: 2.25s\n",
      "800:\tlearn: 0.8450475\ttest: 1.7610846\tbest: 1.7125296 (114)\ttotal: 5.75s\tremaining: 1.43s\n",
      "900:\tlearn: 0.8061597\ttest: 1.7603285\tbest: 1.7125296 (114)\ttotal: 6.62s\tremaining: 727ms\n",
      "999:\tlearn: 0.7698459\ttest: 1.7616061\tbest: 1.7125296 (114)\ttotal: 7.4s\tremaining: 0us\n",
      "\n",
      "bestTest = 1.712529624\n",
      "bestIteration = 114\n",
      "\n",
      "Shrink model to first 115 iterations.\n",
      "+----+--------+---------+----------+-------------+--------------------------------------------------------------------------------------------------------------------------------------+\n",
      "|    |   Seed |    RMSE |       R2 | BestIter    | ModelPath                                                                                                                            |\n",
      "|----+--------+---------+----------+-------------+--------------------------------------------------------------------------------------------------------------------------------------|\n",
      "|  0 |     42 | 1.71253 | 0.931622 | 114_of_1000 | /media/ljp238/12TBWolf/RSPROX/OUTPUT_TILES/MODELS/cb_train_de_dev/12/zdif/iter100_n1000_eq(None,)xtile_s1/catboost_1000_42_model.txt |\n",
      "+----+--------+---------+----------+-------------+--------------------------------------------------------------------------------------------------------------------------------------+\n",
      "All Model training complete.\n",
      "Total of 1 models\n"
     ]
    }
   ],
   "source": []
  },
  {
   "cell_type": "code",
   "execution_count": null,
   "metadata": {},
   "outputs": [],
   "source": []
  }
 ],
 "metadata": {
  "kernelspec": {
   "display_name": "agluon",
   "language": "python",
   "name": "python3"
  },
  "language_info": {
   "codemirror_mode": {
    "name": "ipython",
    "version": 3
   },
   "file_extension": ".py",
   "mimetype": "text/x-python",
   "name": "python",
   "nbconvert_exporter": "python",
   "pygments_lexer": "ipython3",
   "version": "3.11.11"
  }
 },
 "nbformat": 4,
 "nbformat_minor": 2
}
