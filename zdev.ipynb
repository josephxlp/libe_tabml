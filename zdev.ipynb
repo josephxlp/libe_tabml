{
 "cells": [
  {
   "cell_type": "code",
   "execution_count": 1,
   "metadata": {},
   "outputs": [
    {
     "name": "stderr",
     "output_type": "stream",
     "text": [
      "/home/ljp238/miniconda3/envs/agluon/lib/python3.11/site-packages/tqdm/auto.py:21: TqdmWarning: IProgress not found. Please update jupyter and ipywidgets. See https://ipywidgets.readthedocs.io/en/stable/user_install.html\n",
      "  from .autonotebook import tqdm as notebook_tqdm\n"
     ]
    }
   ],
   "source": [
    "import pandas as pd\n",
    "from autogluon.tabular import TabularDataset, TabularPredictor\n",
    "from glob import glob \n",
    "import os\n",
    "from utilsdf import read_tiles_nosample"
   ]
  },
  {
   "cell_type": "code",
   "execution_count": 2,
   "metadata": {},
   "outputs": [],
   "source": [
    "path = \"/media/ljp238/12TBWolf/RSPROX/OUT_TILES/TILES12/*/*_core.parquet\"\n",
    "fparquet_list = glob(path)"
   ]
  },
  {
   "cell_type": "code",
   "execution_count": 4,
   "metadata": {},
   "outputs": [],
   "source": [
    "df = pd.read_parquet(fparquet_list[0])"
   ]
  },
  {
   "cell_type": "code",
   "execution_count": 6,
   "metadata": {},
   "outputs": [
    {
     "data": {
      "text/plain": [
       "negroaoidtm        81018001\n",
       "multi_dtm_lidar     8524192\n",
       "edem_w84                  0\n",
       "cdem_dem                  0\n",
       "edem_egm                  0\n",
       "multi_s1x_band1           0\n",
       "multi_s1x_band2           0\n",
       "multi_s2_band1            0\n",
       "multi_s2_band2            0\n",
       "multi_s2_band3            0\n",
       "dtype: int64"
      ]
     },
     "execution_count": 6,
     "metadata": {},
     "output_type": "execute_result"
    }
   ],
   "source": [
    "df.isna().sum()"
   ]
  },
  {
   "cell_type": "code",
   "execution_count": 8,
   "metadata": {},
   "outputs": [
    {
     "data": {
      "text/html": [
       "<div>\n",
       "<style scoped>\n",
       "    .dataframe tbody tr th:only-of-type {\n",
       "        vertical-align: middle;\n",
       "    }\n",
       "\n",
       "    .dataframe tbody tr th {\n",
       "        vertical-align: top;\n",
       "    }\n",
       "\n",
       "    .dataframe thead th {\n",
       "        text-align: right;\n",
       "    }\n",
       "</style>\n",
       "<table border=\"1\" class=\"dataframe\">\n",
       "  <thead>\n",
       "    <tr style=\"text-align: right;\">\n",
       "      <th></th>\n",
       "      <th>negroaoidtm</th>\n",
       "      <th>multi_dtm_lidar</th>\n",
       "      <th>edem_w84</th>\n",
       "      <th>cdem_dem</th>\n",
       "      <th>edem_egm</th>\n",
       "      <th>multi_s1x_band1</th>\n",
       "      <th>multi_s1x_band2</th>\n",
       "      <th>multi_s2_band1</th>\n",
       "      <th>multi_s2_band2</th>\n",
       "      <th>multi_s2_band3</th>\n",
       "    </tr>\n",
       "  </thead>\n",
       "  <tbody>\n",
       "    <tr>\n",
       "      <th>0</th>\n",
       "      <td>NaN</td>\n",
       "      <td>NaN</td>\n",
       "      <td>-8.909220</td>\n",
       "      <td>0.0</td>\n",
       "      <td>0.0</td>\n",
       "      <td>0.101358</td>\n",
       "      <td>0.068114</td>\n",
       "      <td>0.103014</td>\n",
       "      <td>0.116391</td>\n",
       "      <td>0.128022</td>\n",
       "    </tr>\n",
       "    <tr>\n",
       "      <th>1</th>\n",
       "      <td>NaN</td>\n",
       "      <td>NaN</td>\n",
       "      <td>-8.908882</td>\n",
       "      <td>0.0</td>\n",
       "      <td>0.0</td>\n",
       "      <td>0.101396</td>\n",
       "      <td>0.068180</td>\n",
       "      <td>0.103996</td>\n",
       "      <td>0.117849</td>\n",
       "      <td>0.129290</td>\n",
       "    </tr>\n",
       "    <tr>\n",
       "      <th>2</th>\n",
       "      <td>NaN</td>\n",
       "      <td>NaN</td>\n",
       "      <td>-8.908545</td>\n",
       "      <td>0.0</td>\n",
       "      <td>0.0</td>\n",
       "      <td>0.103076</td>\n",
       "      <td>0.068425</td>\n",
       "      <td>0.103668</td>\n",
       "      <td>0.117686</td>\n",
       "      <td>0.129413</td>\n",
       "    </tr>\n",
       "    <tr>\n",
       "      <th>3</th>\n",
       "      <td>NaN</td>\n",
       "      <td>NaN</td>\n",
       "      <td>-8.908208</td>\n",
       "      <td>0.0</td>\n",
       "      <td>0.0</td>\n",
       "      <td>0.104756</td>\n",
       "      <td>0.068670</td>\n",
       "      <td>0.103340</td>\n",
       "      <td>0.117522</td>\n",
       "      <td>0.129536</td>\n",
       "    </tr>\n",
       "    <tr>\n",
       "      <th>4</th>\n",
       "      <td>NaN</td>\n",
       "      <td>NaN</td>\n",
       "      <td>-8.907657</td>\n",
       "      <td>0.0</td>\n",
       "      <td>0.0</td>\n",
       "      <td>0.106301</td>\n",
       "      <td>0.067329</td>\n",
       "      <td>0.103559</td>\n",
       "      <td>0.117577</td>\n",
       "      <td>0.129275</td>\n",
       "    </tr>\n",
       "  </tbody>\n",
       "</table>\n",
       "</div>"
      ],
      "text/plain": [
       "   negroaoidtm  multi_dtm_lidar  edem_w84  cdem_dem  edem_egm  \\\n",
       "0          NaN              NaN -8.909220       0.0       0.0   \n",
       "1          NaN              NaN -8.908882       0.0       0.0   \n",
       "2          NaN              NaN -8.908545       0.0       0.0   \n",
       "3          NaN              NaN -8.908208       0.0       0.0   \n",
       "4          NaN              NaN -8.907657       0.0       0.0   \n",
       "\n",
       "   multi_s1x_band1  multi_s1x_band2  multi_s2_band1  multi_s2_band2  \\\n",
       "0         0.101358         0.068114        0.103014        0.116391   \n",
       "1         0.101396         0.068180        0.103996        0.117849   \n",
       "2         0.103076         0.068425        0.103668        0.117686   \n",
       "3         0.104756         0.068670        0.103340        0.117522   \n",
       "4         0.106301         0.067329        0.103559        0.117577   \n",
       "\n",
       "   multi_s2_band3  \n",
       "0        0.128022  \n",
       "1        0.129290  \n",
       "2        0.129413  \n",
       "3        0.129536  \n",
       "4        0.129275  "
      ]
     },
     "execution_count": 8,
     "metadata": {},
     "output_type": "execute_result"
    }
   ],
   "source": [
    "df.head() # where cdem and edem0 is equal to zero, also make edeme to zero @find out exactly where "
   ]
  },
  {
   "cell_type": "code",
   "execution_count": null,
   "metadata": {},
   "outputs": [],
   "source": [
    "\n",
    "\n",
    "fcol = ['edem_w84','multi_s1_band2', 'multi_s2_band1', 'multi_s2_band2', 'multi_s2_band3']\n",
    "ldem = 'multi_dtm_lidar'\n",
    "pdem = 'negroaoidtm'\n",
    "rcol = 'edem_w84'\n",
    "ycol = 'zdif'\n",
    "\n",
    "s1col =  ['multi_s1_band1','multi_s1_band2']\n",
    "s2col = ['multi_s2_band1', 'multi_s2_band2', 'multi_s2_band3']\n",
    "\n",
    "\n",
    "# print(s2tcol)\n",
    "# acol = list(set(s1tcol + s2tcol))\n",
    "# acol"
   ]
  },
  {
   "cell_type": "code",
   "execution_count": 10,
   "metadata": {},
   "outputs": [],
   "source": [
    "import pandas as pd\n",
    "from concurrent.futures import ThreadPoolExecutor\n",
    "\n",
    "def save_parquet_chunk(df_chunk, file_name):\n",
    "    \"\"\"Função auxiliar para salvar um chunk em Parquet\"\"\"\n",
    "    df_chunk.to_parquet(file_name, index=False)\n",
    "    print(f\"Saved {file_name} with {len(df_chunk)} rows.\")\n",
    "\n",
    "def save_chunks_as_parquet(df, chunk_size=100_000, output_prefix=\"chunk\", num_workers=8):\n",
    "    \"\"\"Divide o DataFrame em chunks e salva os arquivos em paralelo\"\"\"\n",
    "    num_chunks = (len(df) // chunk_size) + 1\n",
    "    tasks = []\n",
    "\n",
    "    with ThreadPoolExecutor(max_workers=num_workers) as executor:\n",
    "        for i, start in enumerate(range(0, len(df), chunk_size)):\n",
    "            df_chunk = df.iloc[start:start + chunk_size]\n",
    "            file_name = f\"{output_prefix}_{i}.parquet\"\n",
    "            tasks.append(executor.submit(save_parquet_chunk, df_chunk, file_name))\n",
    "\n",
    "        # Espera todas as tarefas finalizarem\n",
    "        for task in tasks:\n",
    "            task.result()\n",
    "\n",
    "def save_chunks_as_parquets(df, chunk_size=100_000, output_prefix=\"chunk\"):\n",
    "    num_chunks = (len(df) // chunk_size) + 1\n",
    "    for i, start in enumerate(range(0, len(df), chunk_size)):\n",
    "        df_chunk = df.iloc[start:start + chunk_size]\n",
    "        df_chunk.to_parquet(f\"{output_prefix}_{i}.parquet\", index=False)\n",
    "        print(f\"Saved {output_prefix}_{i}.parquet with rows.\")#{len(df_chunk)} "
   ]
  },
  {
   "cell_type": "code",
   "execution_count": 4,
   "metadata": {},
   "outputs": [],
   "source": [
    "ldar_mkd = [\n",
    "'/media/ljp238/12TBWolf/RSPROX/OUT_TILES/TILES12/N09E105/N09E105_core.parquet',\n",
    " '/media/ljp238/12TBWolf/RSPROX/OUT_TILES/TILES12/N09E106/N09E106_core.parquet',\n",
    " '/media/ljp238/12TBWolf/RSPROX/OUT_TILES/TILES12/N10E104/N10E104_core.parquet',\n",
    " '/media/ljp238/12TBWolf/RSPROX/OUT_TILES/TILES12/N10E105/N10E105_core.parquet',\n",
    " '/media/ljp238/12TBWolf/RSPROX/OUT_TILES/TILES12/N10E106/N10E106_core.parquet',\n",
    "]\n",
    "\n",
    "ldar_tls = ['/media/ljp238/12TBWolf/RSPROX/OUT_TILES/TILES12/N13E103/N13E103_core.parquet']\n",
    "\n",
    "ldar_rgn = [\n",
    "'/media/ljp238/12TBWolf/RSPROX/OUT_TILES/TILES12/S01W063/S01W063_core.parquet',\n",
    " '/media/ljp238/12TBWolf/RSPROX/OUT_TILES/TILES12/S01W064/S01W064_core.parquet',\n",
    " '/media/ljp238/12TBWolf/RSPROX/OUT_TILES/TILES12/S02W063/S02W063_core.parquet',\n",
    " '/media/ljp238/12TBWolf/RSPROX/OUT_TILES/TILES12/S02W064/S02W064_core.parquet']"
   ]
  },
  {
   "cell_type": "code",
   "execution_count": 12,
   "metadata": {},
   "outputs": [],
   "source": [
    "#df = pd.read_parquet(ldar_tls[0])"
   ]
  },
  {
   "cell_type": "code",
   "execution_count": null,
   "metadata": {},
   "outputs": [],
   "source": [
    "parq_outdir = \"/media/ljp238/12TBWolf/RSPROX/OUT_TILES/PARQ_CLEAN_TRAIN\""
   ]
  },
  {
   "cell_type": "code",
   "execution_count": null,
   "metadata": {},
   "outputs": [
    {
     "name": "stdout",
     "output_type": "stream",
     "text": [
      "Encoding nulls from column edem_w84...\n",
      "Dropping nulls from column 'edem_w84'...\n"
     ]
    }
   ],
   "source": [
    "n=100_000\n",
    "px = 30\n",
    "for roi in ['mkd', 'tls', 'rng']:\n",
    "    if roi == 'mkd':\n",
    "        print(f'processing {roi}')\n",
    "        df = read_tiles_nosample(fparquet_list,rcol,ldem)\n",
    "        df = df.drop(pdem,axis=1)\n",
    "        df[ycol] = df[rcol].subtract(df[ldem])\n",
    "        s1tcol = [ldem,rcol]+s1col\n",
    "        s2tcol = [ldem,rcol]+s2col\n",
    "        pqt = f\"{parq_outdir}/{roi}/clean_data_\"\n",
    "        print(df.columns.tolist())\n",
    "        save_chunks_as_parquet(df, chunk_size=n, output_prefix=pqt, num_workers=px)\n",
    "        \n",
    "    elif roi == 'tls':\n",
    "        print(f'processing {roi}')\n",
    "        df = read_tiles_nosample(fparquet_list,rcol,ldem)\n",
    "        df = df.drop(pdem,axis=1)\n",
    "        df[ycol] = df[rcol].subtract(df[ldem])\n",
    "        s1tcol = [ldem,rcol]+s1col\n",
    "        s2tcol = [ldem,rcol]+s2col\n",
    "        outdir = f\"{parq_outdir}/{roi}/clean_data_\"\n",
    "        print(df.columns.tolist())\n",
    "        save_chunks_as_parquet(df, chunk_size=n, output_prefix=pqt, num_workers=px)\n",
    "\n",
    "    elif roi == 'rng':\n",
    "        print(f'processing {roi}')\n",
    "        df = read_tiles_nosample(fparquet_list,rcol,pdem)\n",
    "        df = df.drop(ldem,axis=1)\n",
    "        s1tcol = [pdem,rcol]+s1col\n",
    "        s2tcol = [pdem,rcol]+s2col \n",
    "        outdir = f\"{parq_outdir}/{roi}/clean_data_\"\n",
    "        df.rename(columns={pdem:ldem})\n",
    "        save_chunks_as_parquet(df, chunk_size=n, output_prefix=pqt, num_workers=px)\n",
    "        print(df.columns.tolist())"
   ]
  },
  {
   "cell_type": "code",
   "execution_count": null,
   "metadata": {},
   "outputs": [],
   "source": []
  },
  {
   "cell_type": "code",
   "execution_count": null,
   "metadata": {},
   "outputs": [],
   "source": []
  },
  {
   "cell_type": "code",
   "execution_count": 15,
   "metadata": {},
   "outputs": [
    {
     "data": {
      "text/plain": [
       "(236435487, 9)"
      ]
     },
     "execution_count": 15,
     "metadata": {},
     "output_type": "execute_result"
    }
   ],
   "source": [
    "df.shape"
   ]
  },
  {
   "cell_type": "code",
   "execution_count": null,
   "metadata": {},
   "outputs": [],
   "source": []
  },
  {
   "cell_type": "code",
   "execution_count": null,
   "metadata": {},
   "outputs": [],
   "source": [
    "\n",
    "parql_fn = \"/media/ljp238/12TBWolf/RSPROX/OUT_TILES/PARQ_CLEAN_TRAIN/ROIL/clean_data_\"\n",
    "#save_chunks_as_parquet(df, chunk_size=100_000, output_prefix=parql_fn)"
   ]
  },
  {
   "cell_type": "code",
   "execution_count": 16,
   "metadata": {},
   "outputs": [
    {
     "data": {
      "text/html": [
       "<div>\n",
       "<style scoped>\n",
       "    .dataframe tbody tr th:only-of-type {\n",
       "        vertical-align: middle;\n",
       "    }\n",
       "\n",
       "    .dataframe tbody tr th {\n",
       "        vertical-align: top;\n",
       "    }\n",
       "\n",
       "    .dataframe thead th {\n",
       "        text-align: right;\n",
       "    }\n",
       "</style>\n",
       "<table border=\"1\" class=\"dataframe\">\n",
       "  <thead>\n",
       "    <tr style=\"text-align: right;\">\n",
       "      <th></th>\n",
       "      <th>negroaoidtm</th>\n",
       "      <th>multi_dtm_lidar</th>\n",
       "      <th>edem_w84</th>\n",
       "      <th>multi_s1_band1</th>\n",
       "      <th>multi_s1_band2</th>\n",
       "      <th>multi_s2_band1</th>\n",
       "      <th>multi_s2_band2</th>\n",
       "      <th>multi_s2_band3</th>\n",
       "      <th>zdif</th>\n",
       "    </tr>\n",
       "  </thead>\n",
       "  <tbody>\n",
       "    <tr>\n",
       "      <th>724</th>\n",
       "      <td>NaN</td>\n",
       "      <td>0.076340</td>\n",
       "      <td>-0.070413</td>\n",
       "      <td>-19.272154</td>\n",
       "      <td>-26.251677</td>\n",
       "      <td>0.099683</td>\n",
       "      <td>0.117876</td>\n",
       "      <td>0.127815</td>\n",
       "      <td>0.146753</td>\n",
       "    </tr>\n",
       "    <tr>\n",
       "      <th>725</th>\n",
       "      <td>NaN</td>\n",
       "      <td>0.076999</td>\n",
       "      <td>-1.166148</td>\n",
       "      <td>-19.356813</td>\n",
       "      <td>-25.942974</td>\n",
       "      <td>0.096351</td>\n",
       "      <td>0.116226</td>\n",
       "      <td>0.127280</td>\n",
       "      <td>1.243147</td>\n",
       "    </tr>\n",
       "    <tr>\n",
       "      <th>726</th>\n",
       "      <td>NaN</td>\n",
       "      <td>0.077737</td>\n",
       "      <td>-2.261883</td>\n",
       "      <td>-19.199352</td>\n",
       "      <td>-25.456274</td>\n",
       "      <td>0.093231</td>\n",
       "      <td>0.114643</td>\n",
       "      <td>0.126582</td>\n",
       "      <td>2.339620</td>\n",
       "    </tr>\n",
       "    <tr>\n",
       "      <th>727</th>\n",
       "      <td>NaN</td>\n",
       "      <td>0.078648</td>\n",
       "      <td>-2.935314</td>\n",
       "      <td>-16.990135</td>\n",
       "      <td>-23.461210</td>\n",
       "      <td>0.091912</td>\n",
       "      <td>0.113635</td>\n",
       "      <td>0.124503</td>\n",
       "      <td>3.013963</td>\n",
       "    </tr>\n",
       "    <tr>\n",
       "      <th>728</th>\n",
       "      <td>NaN</td>\n",
       "      <td>0.079386</td>\n",
       "      <td>-3.273816</td>\n",
       "      <td>-14.780917</td>\n",
       "      <td>-21.466145</td>\n",
       "      <td>0.090592</td>\n",
       "      <td>0.112627</td>\n",
       "      <td>0.122425</td>\n",
       "      <td>3.353203</td>\n",
       "    </tr>\n",
       "    <tr>\n",
       "      <th>...</th>\n",
       "      <td>...</td>\n",
       "      <td>...</td>\n",
       "      <td>...</td>\n",
       "      <td>...</td>\n",
       "      <td>...</td>\n",
       "      <td>...</td>\n",
       "      <td>...</td>\n",
       "      <td>...</td>\n",
       "      <td>...</td>\n",
       "    </tr>\n",
       "    <tr>\n",
       "      <th>460257102</th>\n",
       "      <td>NaN</td>\n",
       "      <td>11.671014</td>\n",
       "      <td>-5.320837</td>\n",
       "      <td>-9.176203</td>\n",
       "      <td>-15.561838</td>\n",
       "      <td>0.100506</td>\n",
       "      <td>0.109037</td>\n",
       "      <td>0.118499</td>\n",
       "      <td>16.991852</td>\n",
       "    </tr>\n",
       "    <tr>\n",
       "      <th>460257103</th>\n",
       "      <td>NaN</td>\n",
       "      <td>11.948798</td>\n",
       "      <td>-4.785427</td>\n",
       "      <td>-8.502990</td>\n",
       "      <td>-14.942888</td>\n",
       "      <td>0.097290</td>\n",
       "      <td>0.107175</td>\n",
       "      <td>0.116694</td>\n",
       "      <td>16.734224</td>\n",
       "    </tr>\n",
       "    <tr>\n",
       "      <th>460257104</th>\n",
       "      <td>NaN</td>\n",
       "      <td>12.045464</td>\n",
       "      <td>-4.563872</td>\n",
       "      <td>-7.971846</td>\n",
       "      <td>-14.443746</td>\n",
       "      <td>0.094598</td>\n",
       "      <td>0.105806</td>\n",
       "      <td>0.115370</td>\n",
       "      <td>16.609337</td>\n",
       "    </tr>\n",
       "    <tr>\n",
       "      <th>460257105</th>\n",
       "      <td>NaN</td>\n",
       "      <td>12.161258</td>\n",
       "      <td>-4.342318</td>\n",
       "      <td>-7.823746</td>\n",
       "      <td>-14.267628</td>\n",
       "      <td>0.093318</td>\n",
       "      <td>0.105764</td>\n",
       "      <td>0.115340</td>\n",
       "      <td>16.503576</td>\n",
       "    </tr>\n",
       "    <tr>\n",
       "      <th>460257106</th>\n",
       "      <td>NaN</td>\n",
       "      <td>12.206635</td>\n",
       "      <td>-4.015336</td>\n",
       "      <td>-7.675646</td>\n",
       "      <td>-14.091509</td>\n",
       "      <td>0.092037</td>\n",
       "      <td>0.105723</td>\n",
       "      <td>0.115310</td>\n",
       "      <td>16.221970</td>\n",
       "    </tr>\n",
       "  </tbody>\n",
       "</table>\n",
       "<p>236435487 rows × 9 columns</p>\n",
       "</div>"
      ],
      "text/plain": [
       "           negroaoidtm  multi_dtm_lidar  edem_w84  multi_s1_band1  \\\n",
       "724                NaN         0.076340 -0.070413      -19.272154   \n",
       "725                NaN         0.076999 -1.166148      -19.356813   \n",
       "726                NaN         0.077737 -2.261883      -19.199352   \n",
       "727                NaN         0.078648 -2.935314      -16.990135   \n",
       "728                NaN         0.079386 -3.273816      -14.780917   \n",
       "...                ...              ...       ...             ...   \n",
       "460257102          NaN        11.671014 -5.320837       -9.176203   \n",
       "460257103          NaN        11.948798 -4.785427       -8.502990   \n",
       "460257104          NaN        12.045464 -4.563872       -7.971846   \n",
       "460257105          NaN        12.161258 -4.342318       -7.823746   \n",
       "460257106          NaN        12.206635 -4.015336       -7.675646   \n",
       "\n",
       "           multi_s1_band2  multi_s2_band1  multi_s2_band2  multi_s2_band3  \\\n",
       "724            -26.251677        0.099683        0.117876        0.127815   \n",
       "725            -25.942974        0.096351        0.116226        0.127280   \n",
       "726            -25.456274        0.093231        0.114643        0.126582   \n",
       "727            -23.461210        0.091912        0.113635        0.124503   \n",
       "728            -21.466145        0.090592        0.112627        0.122425   \n",
       "...                   ...             ...             ...             ...   \n",
       "460257102      -15.561838        0.100506        0.109037        0.118499   \n",
       "460257103      -14.942888        0.097290        0.107175        0.116694   \n",
       "460257104      -14.443746        0.094598        0.105806        0.115370   \n",
       "460257105      -14.267628        0.093318        0.105764        0.115340   \n",
       "460257106      -14.091509        0.092037        0.105723        0.115310   \n",
       "\n",
       "                zdif  \n",
       "724         0.146753  \n",
       "725         1.243147  \n",
       "726         2.339620  \n",
       "727         3.013963  \n",
       "728         3.353203  \n",
       "...              ...  \n",
       "460257102  16.991852  \n",
       "460257103  16.734224  \n",
       "460257104  16.609337  \n",
       "460257105  16.503576  \n",
       "460257106  16.221970  \n",
       "\n",
       "[236435487 rows x 9 columns]"
      ]
     },
     "execution_count": 16,
     "metadata": {},
     "output_type": "execute_result"
    }
   ],
   "source": [
    "save_chunks_as_parquet(df, chunk_size=100_000, output_prefix=parql_fn, num_workers=30)"
   ]
  },
  {
   "cell_type": "code",
   "execution_count": 8,
   "metadata": {},
   "outputs": [],
   "source": [
    "d1 = df.sample(1000).copy()"
   ]
  },
  {
   "cell_type": "code",
   "execution_count": 10,
   "metadata": {},
   "outputs": [],
   "source": [
    "from zdev import train_all_models\n",
    "output_dir = \"/media/ljp238/12TBWolf/RSPROX/OUT_TILES/MODELS/\""
   ]
  },
  {
   "cell_type": "code",
   "execution_count": 14,
   "metadata": {},
   "outputs": [],
   "source": [
    "del train_all_models"
   ]
  },
  {
   "cell_type": "code",
   "execution_count": 13,
   "metadata": {},
   "outputs": [
    {
     "name": "stdout",
     "output_type": "stream",
     "text": [
      "0:\tlearn: 3.4582972\ttest: 3.3911306\tbest: 3.3911306 (0)\ttotal: 8.17ms\tremaining: 8.16s\n",
      "bestTest = 2.214194887\n",
      "bestIteration = 69\n",
      "Shrink model to first 70 iterations.\n",
      "0:\tlearn: 2.7711008\ttest: 2.2024711\tbest: 2.2024711 (0)\ttotal: 6.95ms\tremaining: 6.94s\n",
      "bestTest = 2.178650067\n",
      "bestIteration = 8\n",
      "Shrink model to first 9 iterations.\n",
      "0:\tlearn: 3.4855090\ttest: 3.4039158\tbest: 3.4039158 (0)\ttotal: 8.06ms\tremaining: 8.05s\n",
      "bestTest = 2.397910162\n",
      "bestIteration = 32\n",
      "Shrink model to first 33 iterations.\n",
      "0:\tlearn: 2.7707485\ttest: 2.2025917\tbest: 2.2025917 (0)\ttotal: 8.99ms\tremaining: 8.98s\n",
      "bestTest = 2.202591705\n",
      "bestIteration = 0\n",
      "Shrink model to first 1 iterations.\n"
     ]
    },
    {
     "data": {
      "text/plain": [
       "{'model_s1id': {'Seed': 42,\n",
       "  'RMSE': 2.2141951259113997,\n",
       "  'R2': 0.6185697283386025,\n",
       "  'ModelPath': '/media/ljp238/12TBWolf/RSPROX/OUT_TILES/MODELS/model_s1id_1000_model.cbm'},\n",
       " 'model_s1di': {'Seed': 42,\n",
       "  'RMSE': 2.178650130127179,\n",
       "  'R2': 0.011206108440865337,\n",
       "  'ModelPath': '/media/ljp238/12TBWolf/RSPROX/OUT_TILES/MODELS/model_s1di_1000_model.cbm'},\n",
       " 'model_s2id': {'Seed': 42,\n",
       "  'RMSE': 2.3979102216789445,\n",
       "  'R2': 0.5526481740435532,\n",
       "  'ModelPath': '/media/ljp238/12TBWolf/RSPROX/OUT_TILES/MODELS/model_s2id_1000_model.cbm'},\n",
       " 'model_s2di': {'Seed': 42,\n",
       "  'RMSE': 2.2025916712170175,\n",
       "  'R2': -0.010645334204750778,\n",
       "  'ModelPath': '/media/ljp238/12TBWolf/RSPROX/OUT_TILES/MODELS/model_s2di_1000_model.cbm'}}"
      ]
     },
     "execution_count": 13,
     "metadata": {},
     "output_type": "execute_result"
    }
   ],
   "source": [
    "train_all_models(d1, output_dir, num_rounds=1000, seed=42)"
   ]
  },
  {
   "cell_type": "code",
   "execution_count": null,
   "metadata": {},
   "outputs": [],
   "source": []
  }
 ],
 "metadata": {
  "kernelspec": {
   "display_name": "agluon",
   "language": "python",
   "name": "python3"
  },
  "language_info": {
   "codemirror_mode": {
    "name": "ipython",
    "version": 3
   },
   "file_extension": ".py",
   "mimetype": "text/x-python",
   "name": "python",
   "nbconvert_exporter": "python",
   "pygments_lexer": "ipython3",
   "version": "3.11.11"
  }
 },
 "nbformat": 4,
 "nbformat_minor": 2
}
